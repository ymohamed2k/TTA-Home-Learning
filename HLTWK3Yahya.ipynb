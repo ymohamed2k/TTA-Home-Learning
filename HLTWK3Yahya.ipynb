{
 "cells": [
  {
   "cell_type": "code",
   "execution_count": 59,
   "metadata": {},
   "outputs": [],
   "source": [
    "myfile = open(\"Numbers.txt\", \"w\")\n",
    "import random\n",
    "for i in range(0,4):\n",
    "    number = random.randint(0,100)\n",
    "    myfile.write(str(number))\n",
    "    myfile.write(\"\\n\")\n",
    "\n",
    "myfile.close()"
   ]
  },
  {
   "cell_type": "code",
   "execution_count": 60,
   "metadata": {},
   "outputs": [
    {
     "name": "stdout",
     "output_type": "stream",
     "text": [
      "79, 17, 33, 71, \n"
     ]
    }
   ],
   "source": [
    "myfile = open(\"Numbers.txt\", \"r\")\n",
    "data = myfile.read().replace(\"\\n\", \", \")\n",
    "myfile.close()\n",
    "print(data)"
   ]
  },
  {
   "cell_type": "code",
   "execution_count": 84,
   "metadata": {},
   "outputs": [],
   "source": [
    "def mark_grade():\n",
    "    percent = int(input(\"What percentage mark did you get for your last exam?\"))\n",
    "    return percent"
   ]
  },
  {
   "cell_type": "code",
   "execution_count": 88,
   "metadata": {},
   "outputs": [
    {
     "name": "stdout",
     "output_type": "stream",
     "text": [
      "Well done you have achieved an A!\n"
     ]
    }
   ],
   "source": [
    "score = mark_grade()\n",
    "if score >= 90:\n",
    "    print(\"Congratulations you have achieved an A*\")\n",
    "elif score >= 80 and score <= 89:\n",
    "    print(\"Well done you have achieved an A!\")\n",
    "elif score >= 70 and score <=79:\n",
    "    print(\"Good job you scored a B.\")\n",
    "elif score >= 60 and score <=69:\n",
    "    print(\"You achieved a C.\")\n",
    "else:\n",
    "    print(\"Sorry, you failed.\")"
   ]
  },
  {
   "cell_type": "code",
   "execution_count": 200,
   "metadata": {},
   "outputs": [
    {
     "name": "stdout",
     "output_type": "stream",
     "text": [
      "[0 1 2 3 4 5 6 7 8 9]\n",
      "[[ True  True  True]\n",
      " [ True  True  True]\n",
      " [ True  True  True]]\n",
      "[-1  2 -1  4 -1  6 -1  8 -1 10]\n",
      "[[0 1 2 3 4]\n",
      " [5 6 7 8 9]]\n",
      "[[ 756  810  864]\n",
      " [1809 1944 2079]\n",
      " [2862 3078 3294]]\n",
      "17496\n"
     ]
    }
   ],
   "source": [
    "import numpy as np\n",
    "first = np.arange(10)\n",
    "print(first)\n",
    "\n",
    "second = np.ones((3,3))\n",
    "print(second==1)\n",
    "\n",
    "third = np.arange(1,11)\n",
    "odd = third % 2 == 1\n",
    "third[odd] = -1\n",
    "print(third)\n",
    "\n",
    "fourth = first.reshape(2,5)\n",
    "print(fourth)\n",
    "\n",
    "a = np.arange(3,28,3).reshape(3,3)\n",
    "b = np.arange(30,55,3).reshape(3,3)\n",
    "c = np.dot(a,b)\n",
    "print(c)\n",
    "d = np.sum(c)\n",
    "print(d)"
   ]
  }
 ],
 "metadata": {
  "interpreter": {
   "hash": "1a462d5e5d243edd09cfb693e81e35848a9a6fc0fbeb1105ae4abde70ab7744a"
  },
  "kernelspec": {
   "display_name": "Python 3.9.7 64-bit",
   "name": "python3"
  },
  "language_info": {
   "codemirror_mode": {
    "name": "ipython",
    "version": 3
   },
   "file_extension": ".py",
   "mimetype": "text/x-python",
   "name": "python",
   "nbconvert_exporter": "python",
   "pygments_lexer": "ipython3",
   "version": "3.9.7"
  },
  "orig_nbformat": 4
 },
 "nbformat": 4,
 "nbformat_minor": 2
}
