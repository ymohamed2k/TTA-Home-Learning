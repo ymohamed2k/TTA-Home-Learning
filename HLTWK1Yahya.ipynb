{
 "cells": [
  {
   "cell_type": "code",
   "execution_count": 33,
   "source": [
    "print(\"hello world\")"
   ],
   "outputs": [
    {
     "output_type": "stream",
     "name": "stdout",
     "text": [
      "hello world\n"
     ]
    }
   ],
   "metadata": {}
  },
  {
   "cell_type": "code",
   "execution_count": 39,
   "source": [
    "import random\r\n",
    "name = input(\"What is your name: \")\r\n",
    "guess = input(\"Guess a number between 1 to 10: \")\r\n",
    "actual = random.randint(1,10)\r\n",
    "if int(guess) == int(actual):\r\n",
    "    print(name + \" that is correct!\")\r\n",
    "else:\r\n",
    "    print(name + \" sorry that is incorrect.\" + \" The actual number is \" + str(actual) + \".\")"
   ],
   "outputs": [
    {
     "output_type": "stream",
     "name": "stdout",
     "text": [
      "yahya sorry that is incorrect. The actual number is 7.\n"
     ]
    }
   ],
   "metadata": {}
  },
  {
   "cell_type": "code",
   "execution_count": 35,
   "source": [
    "favourite = input(\"What is your favourite number from 1 to 100? \")\r\n",
    "if int(favourite) <= 49:\r\n",
    "    print(\"What is a mathmeticians favourite dessert? A pi\")\r\n",
    "elif int(favourite) == 50:\r\n",
    "    print(\"What is a coders favourite animal? A Pi-thon\")\r\n",
    "elif int(favourite) >= 51:\r\n",
    "    print(\"What math problem does a German student have a lot of trouble answering? What is the square root of 81\")"
   ],
   "outputs": [
    {
     "output_type": "stream",
     "name": "stdout",
     "text": [
      "What is a coders favourite animal? A Pi-thon\n"
     ]
    }
   ],
   "metadata": {}
  },
  {
   "cell_type": "code",
   "execution_count": 36,
   "source": [
    "name = input(\"What is your name?\")\r\n",
    "print(\"I will now ask for your favourite restaurant items.\")\r\n",
    "starter = input(\"What starter do you like?\")\r\n",
    "main = input(\"Your main course?\")\r\n",
    "dessert = input(\"How about the dessert?\")\r\n",
    "drink = input(\"And lastly the drink?\")\r\n",
    "print(\"Hello \" + name + \" your favourite starter is \" + starter + \", the meal you like most is \" + main + \", and a side of \" + dessert + \" with a glass of \" + drink + \".\")"
   ],
   "outputs": [
    {
     "output_type": "stream",
     "name": "stdout",
     "text": [
      "I will now ask for your favourite restaurant items.\n",
      "Hello yahya your favourite starter is dumplings, the meal you like most is steak, and a side of cake with a glass of milk.\n"
     ]
    }
   ],
   "metadata": {}
  },
  {
   "cell_type": "code",
   "execution_count": 37,
   "source": [
    "i = 2000\r\n",
    "while i >= 1000:\r\n",
    "    print(\"Value of bike: £\" + str(i))\r\n",
    "    i = i - (i * 0.1)"
   ],
   "outputs": [
    {
     "output_type": "stream",
     "name": "stdout",
     "text": [
      "Value of bike: £2000\n",
      "Value of bike: £1800.0\n",
      "Value of bike: £1620.0\n",
      "Value of bike: £1458.0\n",
      "Value of bike: £1312.2\n",
      "Value of bike: £1180.98\n",
      "Value of bike: £1062.882\n"
     ]
    }
   ],
   "metadata": {}
  },
  {
   "cell_type": "code",
   "execution_count": 38,
   "source": [
    "first = float(input(\"Input a number:\"))\r\n",
    "second = float(input(\"Now input a second number:\"))\r\n",
    "print(\"Next you will choose what to do with the two numbers.\")\r\n",
    "i = input(\"To add type 1, to substract it's 2, to multiply it's 3, to divide it's 4 and the square function is 5.\")\r\n",
    "if int(i) == 1:\r\n",
    "    print(first + second)\r\n",
    "elif int(i) == 2:\r\n",
    "    print(first - second)\r\n",
    "elif int(i) == 3:\r\n",
    "    print(first * second)\r\n",
    "elif int(i) == 4:\r\n",
    "    print(first / second)\r\n",
    "elif int(i) == 5:\r\n",
    "    print(first ** second)\r\n",
    "else:\r\n",
    "    print(\"Sorry there was an error, try again.\")\r\n"
   ],
   "outputs": [
    {
     "output_type": "stream",
     "name": "stdout",
     "text": [
      "Next you will choose what to do with the two numbers.\n",
      "0.6666666666666666\n"
     ]
    }
   ],
   "metadata": {}
  }
 ],
 "metadata": {
  "orig_nbformat": 4,
  "language_info": {
   "name": "python",
   "version": "3.9.7",
   "mimetype": "text/x-python",
   "codemirror_mode": {
    "name": "ipython",
    "version": 3
   },
   "pygments_lexer": "ipython3",
   "nbconvert_exporter": "python",
   "file_extension": ".py"
  },
  "kernelspec": {
   "name": "python3",
   "display_name": "Python 3.9.7 64-bit"
  },
  "interpreter": {
   "hash": "1a462d5e5d243edd09cfb693e81e35848a9a6fc0fbeb1105ae4abde70ab7744a"
  }
 },
 "nbformat": 4,
 "nbformat_minor": 2
}