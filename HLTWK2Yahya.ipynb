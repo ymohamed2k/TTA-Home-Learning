{
 "cells": [
  {
   "cell_type": "code",
   "execution_count": 61,
   "source": [
    "def function(int_price):\r\n",
    "    discount = int_price\r\n",
    "    return discount "
   ],
   "outputs": [],
   "metadata": {}
  },
  {
   "cell_type": "code",
   "execution_count": 62,
   "source": [
    "price = 2000\r\n",
    "function(price)\r\n",
    "new = function(price)\r\n",
    "while new >= 1000:\r\n",
    "    print(\"The value of bike: £\" + str(new))\r\n",
    "    new = new - (new * 0.1)\r\n"
   ],
   "outputs": [
    {
     "output_type": "stream",
     "name": "stdout",
     "text": [
      "The value of bike: £2000\n",
      "The value of bike: £1800.0\n",
      "The value of bike: £1620.0\n",
      "The value of bike: £1458.0\n",
      "The value of bike: £1312.2\n",
      "The value of bike: £1180.98\n",
      "The value of bike: £1062.882\n"
     ]
    }
   ],
   "metadata": {}
  },
  {
   "cell_type": "code",
   "execution_count": 76,
   "source": [
    "def procedure(int_first,int_second,int_i):\r\n",
    "    if int_i == 1:\r\n",
    "        print(\"The calculation is:\", int_first + int_second)\r\n",
    "    elif int_i == 2:\r\n",
    "        print(\"The calculation is:\", int_first - int_second)\r\n",
    "    elif int_i == 3:\r\n",
    "        print(\"The calculation is:\", int_first * int_second)\r\n",
    "    elif int_i == 4:\r\n",
    "        print(\"The calculation is:\", int_first / int_second)\r\n",
    "    elif int_i == 5:\r\n",
    "        print(\"The calculation is:\", int_first ** int_second)\r\n",
    "    else:\r\n",
    "        print(\"Sorry there was an error, try again.\")"
   ],
   "outputs": [],
   "metadata": {}
  },
  {
   "cell_type": "code",
   "execution_count": 77,
   "source": [
    "first = float(input(\"Pick a number:\"))\r\n",
    "second = float(input(\"Pick a second number:\"))\r\n",
    "print(\"Next you will choose what to do with both numbers.\")\r\n",
    "i = float(input(\"Pick 1 to add, 2 to subtract, 3 to multiply, 4 to divide and 5 is the square function.\"))\r\n",
    "procedure(first,second,i)"
   ],
   "outputs": [
    {
     "output_type": "stream",
     "name": "stdout",
     "text": [
      "Next you will choose what to do with both numbers.\n",
      "The calculation is: 0.5\n"
     ]
    }
   ],
   "metadata": {}
  }
 ],
 "metadata": {
  "orig_nbformat": 4,
  "language_info": {
   "name": "python",
   "version": "3.9.7",
   "mimetype": "text/x-python",
   "codemirror_mode": {
    "name": "ipython",
    "version": 3
   },
   "pygments_lexer": "ipython3",
   "nbconvert_exporter": "python",
   "file_extension": ".py"
  },
  "kernelspec": {
   "name": "python3",
   "display_name": "Python 3.9.7 64-bit"
  },
  "interpreter": {
   "hash": "1a462d5e5d243edd09cfb693e81e35848a9a6fc0fbeb1105ae4abde70ab7744a"
  }
 },
 "nbformat": 4,
 "nbformat_minor": 2
}